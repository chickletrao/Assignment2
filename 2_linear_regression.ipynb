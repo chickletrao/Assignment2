{
 "cells": [
  {
   "cell_type": "code",
   "execution_count": 19,
   "metadata": {},
   "outputs": [],
   "source": [
    "from sklearn import metrics\n",
    "import pandas as pd\n",
    "import datetime as dt\n",
    "import numpy as np\n"
   ]
  },
  {
   "cell_type": "code",
   "execution_count": 20,
   "metadata": {},
   "outputs": [],
   "source": [
    "data=pd.read_csv('problem_2_train.csv')\n",
    "te=pd.read_csv('problem_2_test.csv')"
   ]
  },
  {
   "cell_type": "code",
   "execution_count": 21,
   "metadata": {},
   "outputs": [
    {
     "data": {
      "text/html": [
       "<div>\n",
       "<style scoped>\n",
       "    .dataframe tbody tr th:only-of-type {\n",
       "        vertical-align: middle;\n",
       "    }\n",
       "\n",
       "    .dataframe tbody tr th {\n",
       "        vertical-align: top;\n",
       "    }\n",
       "\n",
       "    .dataframe thead th {\n",
       "        text-align: right;\n",
       "    }\n",
       "</style>\n",
       "<table border=\"1\" class=\"dataframe\">\n",
       "  <thead>\n",
       "    <tr style=\"text-align: right;\">\n",
       "      <th></th>\n",
       "      <th>srno</th>\n",
       "      <th>mobmake</th>\n",
       "      <th>hubid</th>\n",
       "      <th>hubpincode</th>\n",
       "      <th>pickuppartnerid</th>\n",
       "      <th>deliverypartnerid</th>\n",
       "      <th>insuranceCompanyId</th>\n",
       "      <th>custpincodecategory</th>\n",
       "      <th>claimtype</th>\n",
       "      <th>custpincode</th>\n",
       "      <th>memcreateddate</th>\n",
       "      <th>mobilepurchasedate</th>\n",
       "      <th>claimintdate</th>\n",
       "      <th>servicecntrid</th>\n",
       "      <th>pickupStartdate</th>\n",
       "      <th>tat_in_days</th>\n",
       "    </tr>\n",
       "  </thead>\n",
       "  <tbody>\n",
       "    <tr>\n",
       "      <th>0</th>\n",
       "      <td>2851218</td>\n",
       "      <td>AN</td>\n",
       "      <td>7</td>\n",
       "      <td>500004</td>\n",
       "      <td>233</td>\n",
       "      <td>233</td>\n",
       "      <td>131</td>\n",
       "      <td>A</td>\n",
       "      <td>ADLD</td>\n",
       "      <td>500001</td>\n",
       "      <td>2017-04-27</td>\n",
       "      <td>2016-12-02</td>\n",
       "      <td>2018-02-08</td>\n",
       "      <td>4403</td>\n",
       "      <td>2018-02-13</td>\n",
       "      <td>5</td>\n",
       "    </tr>\n",
       "    <tr>\n",
       "      <th>1</th>\n",
       "      <td>2838330</td>\n",
       "      <td>AJ</td>\n",
       "      <td>10</td>\n",
       "      <td>226010</td>\n",
       "      <td>233</td>\n",
       "      <td>233</td>\n",
       "      <td>131</td>\n",
       "      <td>A</td>\n",
       "      <td>ADLD</td>\n",
       "      <td>226022</td>\n",
       "      <td>2017-03-06</td>\n",
       "      <td>2017-03-05</td>\n",
       "      <td>2018-02-04</td>\n",
       "      <td>4444</td>\n",
       "      <td>2018-02-08</td>\n",
       "      <td>12</td>\n",
       "    </tr>\n",
       "    <tr>\n",
       "      <th>2</th>\n",
       "      <td>2835781</td>\n",
       "      <td>AJ</td>\n",
       "      <td>2</td>\n",
       "      <td>110018</td>\n",
       "      <td>233</td>\n",
       "      <td>233</td>\n",
       "      <td>228</td>\n",
       "      <td>A</td>\n",
       "      <td>ADLD</td>\n",
       "      <td>110018</td>\n",
       "      <td>2018-02-01</td>\n",
       "      <td>2018-01-27</td>\n",
       "      <td>2018-02-03</td>\n",
       "      <td>4388</td>\n",
       "      <td>2018-02-12</td>\n",
       "      <td>9</td>\n",
       "    </tr>\n",
       "    <tr>\n",
       "      <th>3</th>\n",
       "      <td>2838589</td>\n",
       "      <td>AM</td>\n",
       "      <td>2</td>\n",
       "      <td>110018</td>\n",
       "      <td>233</td>\n",
       "      <td>233</td>\n",
       "      <td>228</td>\n",
       "      <td>B</td>\n",
       "      <td>ADLD</td>\n",
       "      <td>124001</td>\n",
       "      <td>2018-01-17</td>\n",
       "      <td>2018-01-31</td>\n",
       "      <td>2018-02-04</td>\n",
       "      <td>4092</td>\n",
       "      <td>2018-02-14</td>\n",
       "      <td>9</td>\n",
       "    </tr>\n",
       "    <tr>\n",
       "      <th>4</th>\n",
       "      <td>2855214</td>\n",
       "      <td>AN</td>\n",
       "      <td>21</td>\n",
       "      <td>110015</td>\n",
       "      <td>233</td>\n",
       "      <td>233</td>\n",
       "      <td>131</td>\n",
       "      <td>A</td>\n",
       "      <td>ADLD</td>\n",
       "      <td>201301</td>\n",
       "      <td>2018-01-23</td>\n",
       "      <td>2018-01-20</td>\n",
       "      <td>2018-02-09</td>\n",
       "      <td>4580</td>\n",
       "      <td>2018-02-14</td>\n",
       "      <td>8</td>\n",
       "    </tr>\n",
       "  </tbody>\n",
       "</table>\n",
       "</div>"
      ],
      "text/plain": [
       "      srno mobmake  hubid  hubpincode  pickuppartnerid  deliverypartnerid  \\\n",
       "0  2851218      AN      7      500004              233                233   \n",
       "1  2838330      AJ     10      226010              233                233   \n",
       "2  2835781      AJ      2      110018              233                233   \n",
       "3  2838589      AM      2      110018              233                233   \n",
       "4  2855214      AN     21      110015              233                233   \n",
       "\n",
       "   insuranceCompanyId custpincodecategory claimtype  custpincode  \\\n",
       "0                 131                   A      ADLD       500001   \n",
       "1                 131                   A      ADLD       226022   \n",
       "2                 228                   A      ADLD       110018   \n",
       "3                 228                   B      ADLD       124001   \n",
       "4                 131                   A      ADLD       201301   \n",
       "\n",
       "  memcreateddate mobilepurchasedate claimintdate  servicecntrid  \\\n",
       "0     2017-04-27         2016-12-02   2018-02-08           4403   \n",
       "1     2017-03-06         2017-03-05   2018-02-04           4444   \n",
       "2     2018-02-01         2018-01-27   2018-02-03           4388   \n",
       "3     2018-01-17         2018-01-31   2018-02-04           4092   \n",
       "4     2018-01-23         2018-01-20   2018-02-09           4580   \n",
       "\n",
       "  pickupStartdate  tat_in_days  \n",
       "0      2018-02-13            5  \n",
       "1      2018-02-08           12  \n",
       "2      2018-02-12            9  \n",
       "3      2018-02-14            9  \n",
       "4      2018-02-14            8  "
      ]
     },
     "execution_count": 21,
     "metadata": {},
     "output_type": "execute_result"
    }
   ],
   "source": [
    "data.head()"
   ]
  },
  {
   "cell_type": "code",
   "execution_count": 22,
   "metadata": {},
   "outputs": [
    {
     "data": {
      "text/plain": [
       "(6250, 16)"
      ]
     },
     "execution_count": 22,
     "metadata": {},
     "output_type": "execute_result"
    }
   ],
   "source": [
    "data.shape"
   ]
  },
  {
   "cell_type": "code",
   "execution_count": null,
   "metadata": {},
   "outputs": [],
   "source": []
  },
  {
   "cell_type": "code",
   "execution_count": 23,
   "metadata": {},
   "outputs": [],
   "source": [
    "data['g']=data.custpincodecategory.map({'A':1,'B':2,'C':3,'D':2,'0':0})\n",
    "te['g']=data.custpincodecategory.map({'A':1,'B':2,'C':3,'D':2,'0':0})"
   ]
  },
  {
   "cell_type": "code",
   "execution_count": 24,
   "metadata": {},
   "outputs": [],
   "source": [
    "a=data.mobmake.unique()\n"
   ]
  },
  {
   "cell_type": "code",
   "execution_count": 7,
   "metadata": {},
   "outputs": [
    {
     "data": {
      "text/plain": [
       "'def to_integer(y,m,d):\\n    #y=year\\n    #m=dt.date.month\\n    #d=dt.date.day\\n    i=10000*y + 100*m + d\\n    return i'"
      ]
     },
     "execution_count": 7,
     "metadata": {},
     "output_type": "execute_result"
    }
   ],
   "source": [
    "'''def to_integer(y,m,d):\n",
    "    #y=year\n",
    "    #m=dt.date.month\n",
    "    #d=dt.date.day\n",
    "    i=10000*y + 100*m + d\n",
    "    return i'''"
   ]
  },
  {
   "cell_type": "code",
   "execution_count": 25,
   "metadata": {},
   "outputs": [],
   "source": [
    "data['mp'] = pd.to_datetime(data['mobilepurchasedate'])\n",
    "data['mc'] = pd.to_datetime(data['memcreateddate'])\n",
    "data['cd'] = pd.to_datetime(data['claimintdate'])\n",
    "data['ps'] = pd.to_datetime(data['pickupStartdate'])"
   ]
  },
  {
   "cell_type": "code",
   "execution_count": 26,
   "metadata": {},
   "outputs": [],
   "source": [
    "te['mp'] = pd.to_datetime(te['mobilepurchasedate'])\n",
    "te['mc'] = pd.to_datetime(te['memcreateddate'])\n",
    "te['cd'] = pd.to_datetime(te['claimintdate'])\n",
    "te['ps'] = pd.to_datetime(te['pickupStartdate'])\n"
   ]
  },
  {
   "cell_type": "code",
   "execution_count": 27,
   "metadata": {},
   "outputs": [],
   "source": [
    "data['mp']=10000*data['mp'].apply(lambda x: x.year)+ 100*data['mp'].apply(lambda x: x.month) + data['mp'].apply(lambda x: x.day)\n",
    "data['mc']=10000*data['mc'].apply(lambda x: x.year)+ 100*data['mc'].apply(lambda x: x.month) + data['mc'].apply(lambda x: x.day)\n",
    "data['cd']=10000*data['cd'].apply(lambda x: x.year)+ 100*data['cd'].apply(lambda x: x.month) + data['cd'].apply(lambda x: x.day)\n",
    "data['ps']=10000*data['ps'].apply(lambda x: x.year)+ 100*data['ps'].apply(lambda x: x.month) + data['ps'].apply(lambda x: x.day)"
   ]
  },
  {
   "cell_type": "code",
   "execution_count": 28,
   "metadata": {},
   "outputs": [],
   "source": [
    "te['mp']=10000*te['mp'].apply(lambda x: x.year)+ 100*te['mp'].apply(lambda x: x.month) + te['mp'].apply(lambda x: x.day)\n",
    "te['mc']=10000*te['mc'].apply(lambda x: x.year)+ 100*te['mc'].apply(lambda x: x.month) + te['mc'].apply(lambda x: x.day)\n",
    "te['cd']=10000*te['cd'].apply(lambda x: x.year)+ 100*te['cd'].apply(lambda x: x.month) + te['cd'].apply(lambda x: x.day)\n",
    "te['ps']=10000*te['ps'].apply(lambda x: x.year)+ 100*te['ps'].apply(lambda x: x.month) + te['ps'].apply(lambda x: x.day)"
   ]
  },
  {
   "cell_type": "code",
   "execution_count": 29,
   "metadata": {},
   "outputs": [
    {
     "data": {
      "text/html": [
       "<div>\n",
       "<style scoped>\n",
       "    .dataframe tbody tr th:only-of-type {\n",
       "        vertical-align: middle;\n",
       "    }\n",
       "\n",
       "    .dataframe tbody tr th {\n",
       "        vertical-align: top;\n",
       "    }\n",
       "\n",
       "    .dataframe thead th {\n",
       "        text-align: right;\n",
       "    }\n",
       "</style>\n",
       "<table border=\"1\" class=\"dataframe\">\n",
       "  <thead>\n",
       "    <tr style=\"text-align: right;\">\n",
       "      <th></th>\n",
       "      <th>srno</th>\n",
       "      <th>mobmake</th>\n",
       "      <th>hubid</th>\n",
       "      <th>hubpincode</th>\n",
       "      <th>pickuppartnerid</th>\n",
       "      <th>deliverypartnerid</th>\n",
       "      <th>insuranceCompanyId</th>\n",
       "      <th>custpincodecategory</th>\n",
       "      <th>claimtype</th>\n",
       "      <th>custpincode</th>\n",
       "      <th>...</th>\n",
       "      <th>mobilepurchasedate</th>\n",
       "      <th>claimintdate</th>\n",
       "      <th>servicecntrid</th>\n",
       "      <th>pickupStartdate</th>\n",
       "      <th>tat_in_days</th>\n",
       "      <th>g</th>\n",
       "      <th>mp</th>\n",
       "      <th>mc</th>\n",
       "      <th>cd</th>\n",
       "      <th>ps</th>\n",
       "    </tr>\n",
       "  </thead>\n",
       "  <tbody>\n",
       "    <tr>\n",
       "      <th>0</th>\n",
       "      <td>2851218</td>\n",
       "      <td>AN</td>\n",
       "      <td>7</td>\n",
       "      <td>500004</td>\n",
       "      <td>233</td>\n",
       "      <td>233</td>\n",
       "      <td>131</td>\n",
       "      <td>A</td>\n",
       "      <td>ADLD</td>\n",
       "      <td>500001</td>\n",
       "      <td>...</td>\n",
       "      <td>2016-12-02</td>\n",
       "      <td>2018-02-08</td>\n",
       "      <td>4403</td>\n",
       "      <td>2018-02-13</td>\n",
       "      <td>5</td>\n",
       "      <td>1</td>\n",
       "      <td>20161202</td>\n",
       "      <td>20170427</td>\n",
       "      <td>20180208</td>\n",
       "      <td>20180213</td>\n",
       "    </tr>\n",
       "  </tbody>\n",
       "</table>\n",
       "<p>1 rows × 21 columns</p>\n",
       "</div>"
      ],
      "text/plain": [
       "      srno mobmake  hubid  hubpincode  pickuppartnerid  deliverypartnerid  \\\n",
       "0  2851218      AN      7      500004              233                233   \n",
       "\n",
       "   insuranceCompanyId custpincodecategory claimtype  custpincode    ...     \\\n",
       "0                 131                   A      ADLD       500001    ...      \n",
       "\n",
       "  mobilepurchasedate claimintdate servicecntrid  pickupStartdate tat_in_days  \\\n",
       "0         2016-12-02   2018-02-08          4403       2018-02-13           5   \n",
       "\n",
       "   g        mp        mc        cd        ps  \n",
       "0  1  20161202  20170427  20180208  20180213  \n",
       "\n",
       "[1 rows x 21 columns]"
      ]
     },
     "execution_count": 29,
     "metadata": {},
     "output_type": "execute_result"
    }
   ],
   "source": [
    "data.head(1)\n"
   ]
  },
  {
   "cell_type": "code",
   "execution_count": 31,
   "metadata": {},
   "outputs": [],
   "source": [
    "f=['hubid','g','custpincode','mp','cd','ps','pickuppartnerid','deliverypartnerid','insuranceCompanyId','servicecntrid']\n",
    "#f=['mobmake','hubid','custpincode','mp','cd','ps','mc']\n",
    "#f=['srno','hubid','custpincode','pickuppartnerid','deliverypartnerid','insuranceCompanyId',tuple('mobid')]"
   ]
  },
  {
   "cell_type": "code",
   "execution_count": 14,
   "metadata": {},
   "outputs": [],
   "source": [
    "#data.srno[data.pickuppartnerid != data.deliverypartnerid]"
   ]
  },
  {
   "cell_type": "code",
   "execution_count": null,
   "metadata": {},
   "outputs": [],
   "source": []
  },
  {
   "cell_type": "code",
   "execution_count": null,
   "metadata": {},
   "outputs": [],
   "source": []
  },
  {
   "cell_type": "code",
   "execution_count": null,
   "metadata": {},
   "outputs": [],
   "source": []
  },
  {
   "cell_type": "code",
   "execution_count": 32,
   "metadata": {},
   "outputs": [],
   "source": [
    "X=data[f]\n",
    "X1=te[f]"
   ]
  },
  {
   "cell_type": "code",
   "execution_count": 34,
   "metadata": {},
   "outputs": [],
   "source": [
    "y=data['tat_in_days']"
   ]
  },
  {
   "cell_type": "code",
   "execution_count": null,
   "metadata": {},
   "outputs": [],
   "source": []
  },
  {
   "cell_type": "code",
   "execution_count": null,
   "metadata": {},
   "outputs": [],
   "source": []
  },
  {
   "cell_type": "code",
   "execution_count": null,
   "metadata": {},
   "outputs": [],
   "source": []
  },
  {
   "cell_type": "code",
   "execution_count": 86,
   "metadata": {},
   "outputs": [],
   "source": [
    "from sklearn.model_selection import train_test_split\n",
    "X_train, X_test, y_train, y_test = train_test_split(X,y, random_state=1,test_size=0.8)\n"
   ]
  },
  {
   "cell_type": "code",
   "execution_count": 75,
   "metadata": {},
   "outputs": [],
   "source": [
    "from sklearn.linear_model import LinearRegression"
   ]
  },
  {
   "cell_type": "code",
   "execution_count": 87,
   "metadata": {},
   "outputs": [
    {
     "data": {
      "text/plain": [
       "LinearRegression(copy_X=True, fit_intercept=True, n_jobs=1, normalize=False)"
      ]
     },
     "execution_count": 87,
     "metadata": {},
     "output_type": "execute_result"
    }
   ],
   "source": [
    "linreg=LinearRegression()\n",
    "linreg.fit(X_train,y_train)"
   ]
  },
  {
   "cell_type": "code",
   "execution_count": null,
   "metadata": {},
   "outputs": [],
   "source": []
  },
  {
   "cell_type": "code",
   "execution_count": 88,
   "metadata": {},
   "outputs": [
    {
     "name": "stdout",
     "output_type": "stream",
     "text": [
      "313286.435658055\n",
      "[-1.92390098e-03  1.00955547e+00  1.69357182e-06 -3.14492959e-05\n",
      " -5.86869599e-03 -9.62249722e-03 -1.20647101e-02 -9.29416493e-03\n",
      " -5.83291605e-04 -4.29310418e-03]\n"
     ]
    }
   ],
   "source": [
    "print(linreg.intercept_)\n",
    "print(linreg.coef_)"
   ]
  },
  {
   "cell_type": "code",
   "execution_count": null,
   "metadata": {},
   "outputs": [],
   "source": []
  },
  {
   "cell_type": "code",
   "execution_count": null,
   "metadata": {},
   "outputs": [],
   "source": [
    "#list(zip(f,linreg.coef_))#"
   ]
  },
  {
   "cell_type": "code",
   "execution_count": null,
   "metadata": {},
   "outputs": [],
   "source": []
  },
  {
   "cell_type": "code",
   "execution_count": 89,
   "metadata": {},
   "outputs": [],
   "source": [
    "y_pred=linreg.predict(X_test)"
   ]
  },
  {
   "cell_type": "code",
   "execution_count": 90,
   "metadata": {},
   "outputs": [],
   "source": [
    "from sklearn.metrics import mean_squared_error"
   ]
  },
  {
   "cell_type": "code",
   "execution_count": 91,
   "metadata": {},
   "outputs": [
    {
     "data": {
      "text/plain": [
       "4.80262796014072"
      ]
     },
     "execution_count": 91,
     "metadata": {},
     "output_type": "execute_result"
    }
   ],
   "source": [
    "np.sqrt(mean_squared_error(y_pred, y_test))"
   ]
  },
  {
   "cell_type": "code",
   "execution_count": null,
   "metadata": {},
   "outputs": [],
   "source": []
  },
  {
   "cell_type": "code",
   "execution_count": 96,
   "metadata": {},
   "outputs": [],
   "source": [
    "te['predict']=linreg.predict(X1)"
   ]
  },
  {
   "cell_type": "code",
   "execution_count": 97,
   "metadata": {},
   "outputs": [
    {
     "data": {
      "text/plain": [
       "0       14.361817\n",
       "1       13.883797\n",
       "2       13.761774\n",
       "3       14.856892\n",
       "4       13.446084\n",
       "5       13.995536\n",
       "6       14.207161\n",
       "7       15.847424\n",
       "8       11.457115\n",
       "9       12.547021\n",
       "10      14.194486\n",
       "11      11.340038\n",
       "12      12.325883\n",
       "13      14.065278\n",
       "14      13.220688\n",
       "15      11.941471\n",
       "16      12.403583\n",
       "17      11.662786\n",
       "18       9.871291\n",
       "19       8.764303\n",
       "20      14.372919\n",
       "21      13.226143\n",
       "22      12.930837\n",
       "23      14.322396\n",
       "24      14.606837\n",
       "25      15.544809\n",
       "26      14.838769\n",
       "27      16.319522\n",
       "28      11.265262\n",
       "29      13.199319\n",
       "          ...    \n",
       "2086    10.312484\n",
       "2087    11.966254\n",
       "2088    15.432396\n",
       "2089    12.008958\n",
       "2090    12.985860\n",
       "2091    14.135607\n",
       "2092    15.942604\n",
       "2093    14.377435\n",
       "2094    14.488048\n",
       "2095    14.293084\n",
       "2096    15.888072\n",
       "2097    12.455526\n",
       "2098    11.701746\n",
       "2099    12.847210\n",
       "2100    10.431738\n",
       "2101    12.484679\n",
       "2102    10.996672\n",
       "2103    11.747931\n",
       "2104    12.265725\n",
       "2105    12.082642\n",
       "2106    14.915116\n",
       "2107    14.848036\n",
       "2108    14.134050\n",
       "2109    14.698177\n",
       "2110    13.591524\n",
       "2111    13.889394\n",
       "2112    15.364462\n",
       "2113    14.803080\n",
       "2114    12.448283\n",
       "2115    11.970819\n",
       "Name: predict, Length: 2116, dtype: float64"
      ]
     },
     "execution_count": 97,
     "metadata": {},
     "output_type": "execute_result"
    }
   ],
   "source": [
    "te['predict'].head(2116)"
   ]
  },
  {
   "cell_type": "code",
   "execution_count": 95,
   "metadata": {},
   "outputs": [],
   "source": [
    "import csv"
   ]
  },
  {
   "cell_type": "code",
   "execution_count": null,
   "metadata": {},
   "outputs": [],
   "source": []
  },
  {
   "cell_type": "code",
   "execution_count": 100,
   "metadata": {},
   "outputs": [],
   "source": [
    "np.savetxt('2.csv',te['predict'],delimiter=',')"
   ]
  }
 ],
 "metadata": {
  "kernelspec": {
   "display_name": "Python 2",
   "language": "python",
   "name": "python2"
  },
  "language_info": {
   "codemirror_mode": {
    "name": "ipython",
    "version": 2
   },
   "file_extension": ".py",
   "mimetype": "text/x-python",
   "name": "python",
   "nbconvert_exporter": "python",
   "pygments_lexer": "ipython2",
   "version": "2.7.15"
  }
 },
 "nbformat": 4,
 "nbformat_minor": 2
}
